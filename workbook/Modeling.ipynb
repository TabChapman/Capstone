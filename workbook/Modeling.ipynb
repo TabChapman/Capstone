{
 "cells": [
  {
   "cell_type": "markdown",
   "id": "a5534b11-0129-4fef-8e1a-4b3bde8eda2a",
   "metadata": {},
   "source": [
    "## Modeling "
   ]
  },
  {
   "cell_type": "code",
   "execution_count": 2,
   "id": "a16b4466-e443-4518-a165-6293492708dd",
   "metadata": {},
   "outputs": [],
   "source": [
    "import pandas as pd\n",
    "import numpy as np\n",
    "import matplotlib.pyplot as plt\n",
    "\n",
    "from sklearn.feature_extraction.text import CountVectorizer, TfidfVectorizer\n",
    "from sklearn.ensemble import RandomForestClassifier, AdaBoostClassifier\n",
    "from sklearn.model_selection import train_test_split, GridSearchCV\n",
    "from sklearn.pipeline import Pipeline\n",
    "from sklearn.neighbors import KNeighborsClassifier\n",
    "from sklearn.preprocessing import StandardScaler, LabelEncoder\n",
    "\n",
    "from tensorflow.keras.models import Sequential\n",
    "from tensorflow.keras.layers import Dense, Dropout\n",
    "from tensorflow.keras.utils import to_categorical\n",
    "from tensorflow.keras.regularizers import l2"
   ]
  },
  {
   "cell_type": "code",
   "execution_count": 4,
   "id": "01de50d8-9e63-423c-b748-19f190f70ce5",
   "metadata": {},
   "outputs": [],
   "source": [
    "lyrics = pd.read_csv('../data/clean_lyrics.csv')"
   ]
  },
  {
   "cell_type": "code",
   "execution_count": 5,
   "id": "82f6de0c-247f-4825-8fe5-085e9d18c0f0",
   "metadata": {},
   "outputs": [
    {
     "data": {
      "text/html": [
       "<div>\n",
       "<style scoped>\n",
       "    .dataframe tbody tr th:only-of-type {\n",
       "        vertical-align: middle;\n",
       "    }\n",
       "\n",
       "    .dataframe tbody tr th {\n",
       "        vertical-align: top;\n",
       "    }\n",
       "\n",
       "    .dataframe thead th {\n",
       "        text-align: right;\n",
       "    }\n",
       "</style>\n",
       "<table border=\"1\" class=\"dataframe\">\n",
       "  <thead>\n",
       "    <tr style=\"text-align: right;\">\n",
       "      <th></th>\n",
       "      <th>Unnamed: 0</th>\n",
       "      <th>artist</th>\n",
       "      <th>lyrics</th>\n",
       "    </tr>\n",
       "  </thead>\n",
       "  <tbody>\n",
       "    <tr>\n",
       "      <th>0</th>\n",
       "      <td>0</td>\n",
       "      <td>T.I.</td>\n",
       "      <td>Skooly &amp;  (We got London On Da Track) Woah Y...</td>\n",
       "    </tr>\n",
       "    <tr>\n",
       "      <th>1</th>\n",
       "      <td>1</td>\n",
       "      <td>T.I.</td>\n",
       "      <td>1  Ayy in my apartment a long time ago I knew...</td>\n",
       "    </tr>\n",
       "    <tr>\n",
       "      <th>2</th>\n",
       "      <td>2</td>\n",
       "      <td>T.I.</td>\n",
       "      <td>All I *Explative* bad *Explative*es I don't ...</td>\n",
       "    </tr>\n",
       "    <tr>\n",
       "      <th>3</th>\n",
       "      <td>3</td>\n",
       "      <td>T.I.</td>\n",
       "      <td>1  Now I don’t really care what you call me J...</td>\n",
       "    </tr>\n",
       "    <tr>\n",
       "      <th>4</th>\n",
       "      <td>4</td>\n",
       "      <td>T.I.</td>\n",
       "      <td>(over ) Miya hee miya ho miya hu miya ha-ha M...</td>\n",
       "    </tr>\n",
       "  </tbody>\n",
       "</table>\n",
       "</div>"
      ],
      "text/plain": [
       "   Unnamed: 0 artist                                             lyrics\n",
       "0           0   T.I.    Skooly &  (We got London On Da Track) Woah Y...\n",
       "1           1   T.I.   1  Ayy in my apartment a long time ago I knew...\n",
       "2           2   T.I.    All I *Explative* bad *Explative*es I don't ...\n",
       "3           3   T.I.   1  Now I don’t really care what you call me J...\n",
       "4           4   T.I.   (over ) Miya hee miya ho miya hu miya ha-ha M..."
      ]
     },
     "execution_count": 5,
     "metadata": {},
     "output_type": "execute_result"
    }
   ],
   "source": [
    "lyrics.head()"
   ]
  },
  {
   "cell_type": "code",
   "execution_count": 9,
   "id": "07703639-6bba-43d4-a3b4-87d14eb647d3",
   "metadata": {},
   "outputs": [
    {
     "data": {
      "text/plain": [
       "DMX                0.006309\n",
       "6LACK              0.006309\n",
       "2Pac               0.006309\n",
       "Rich Homie Quan    0.006309\n",
       "Beastie Boys       0.006309\n",
       "                     ...   \n",
       "Pretty Ricky       0.006309\n",
       "Kent Jones         0.006309\n",
       "Offset             0.006309\n",
       "Travis Scott       0.006309\n",
       "Ray Dalton         0.003155\n",
       "Name: artist, Length: 159, dtype: float64"
      ]
     },
     "execution_count": 9,
     "metadata": {},
     "output_type": "execute_result"
    }
   ],
   "source": [
    "lyrics['artist'].value_counts(normalize=True)"
   ]
  },
  {
   "cell_type": "code",
   "execution_count": 198,
   "id": "8d028e5e-0399-4027-94e3-694920d9bbd0",
   "metadata": {},
   "outputs": [],
   "source": [
    "X = lyrics['lyrics']\n",
    "y = lyrics['artist']\n",
    "\n",
    "X_train, X_test, y_train, y_test = train_test_split(X,y,random_state=42,stratify=y)"
   ]
  },
  {
   "cell_type": "markdown",
   "id": "53da7a8e-f20f-42fa-ae95-22523d1f939d",
   "metadata": {},
   "source": [
    "### Random Forest"
   ]
  },
  {
   "cell_type": "code",
   "execution_count": 199,
   "id": "88a3e145-249d-4518-8066-39926bd4fda6",
   "metadata": {},
   "outputs": [],
   "source": [
    "pipe_forest = Pipeline([\n",
    "    ('cv', CountVectorizer()),\n",
    "    ('forest', RandomForestClassifier())\n",
    "])"
   ]
  },
  {
   "cell_type": "code",
   "execution_count": 200,
   "id": "698abc64-9c75-475f-8296-9dc261164eab",
   "metadata": {},
   "outputs": [
    {
     "name": "stdout",
     "output_type": "stream",
     "text": [
      "1.0\n",
      "0.34760705289672544\n"
     ]
    }
   ],
   "source": [
    "pipe_forest.fit(X_train,y_train)\n",
    "\n",
    "print(pipe_forest.score(X_train,y_train))\n",
    "\n",
    "print(pipe_forest.score(X_test,y_test))"
   ]
  },
  {
   "cell_type": "code",
   "execution_count": 201,
   "id": "83a7667c-e7b4-4fc4-9e45-f2c4135511f2",
   "metadata": {},
   "outputs": [],
   "source": [
    "param_grid = {\n",
    " 'forest__max_depth': [30, 60],\n",
    " 'forest__max_features': ['auto', 'sqrt'],\n",
    " 'forest__min_samples_leaf': [1, 4],\n",
    " 'forest__n_estimators': [200, 800, 1800]\n",
    "    }"
   ]
  },
  {
   "cell_type": "code",
   "execution_count": 203,
   "id": "e369a865-4e7b-45b4-a917-e8a7a4b31fc7",
   "metadata": {},
   "outputs": [],
   "source": [
    "#grid_search = GridSearchCV(pipe, param_grid, n_jobs=-1)\n",
    "\n",
    "#grid_search.fit(X_train,y_train)"
   ]
  },
  {
   "cell_type": "code",
   "execution_count": null,
   "id": "38430c2c-7644-42e0-a4b2-9f5e79af96d5",
   "metadata": {},
   "outputs": [],
   "source": []
  },
  {
   "cell_type": "code",
   "execution_count": 205,
   "id": "b805898f-4687-4b28-a254-ffdfc281a151",
   "metadata": {},
   "outputs": [],
   "source": [
    "pipe_forest = Pipeline([\n",
    "    ('cv', CountVectorizer()),\n",
    "    ('forest', RandomForestClassifier(max_depth=60,max_features='auto',min_samples_leaf=1,n_estimators=2000))\n",
    "])"
   ]
  },
  {
   "cell_type": "code",
   "execution_count": 206,
   "id": "92809089-d608-4a18-8f8f-799fd11580fc",
   "metadata": {},
   "outputs": [
    {
     "name": "stdout",
     "output_type": "stream",
     "text": [
      "1.0\n",
      "0.3501259445843829\n"
     ]
    }
   ],
   "source": [
    "pipe_forest.fit(X_train,y_train)\n",
    "\n",
    "print(pipe_forest.score(X_train,y_train))\n",
    "\n",
    "print(pipe_forest.score(X_test,y_test))"
   ]
  },
  {
   "cell_type": "code",
   "execution_count": 207,
   "id": "807c1758-5f1e-45b8-acef-4cff2bd19389",
   "metadata": {},
   "outputs": [
    {
     "data": {
      "text/plain": [
       "array([9.44952568e-06, 4.02572855e-06, 3.54450491e-06, ...,\n",
       "       1.68168644e-05, 1.45182168e-06, 1.60587372e-05])"
      ]
     },
     "execution_count": 207,
     "metadata": {},
     "output_type": "execute_result"
    }
   ],
   "source": [
    "pipe_forest.named_steps['forest'].feature_importances_"
   ]
  },
  {
   "cell_type": "code",
   "execution_count": 208,
   "id": "ebf63506-7df0-4607-bc5d-d7ec5aef1723",
   "metadata": {},
   "outputs": [
    {
     "data": {
      "text/html": [
       "<div>\n",
       "<style scoped>\n",
       "    .dataframe tbody tr th:only-of-type {\n",
       "        vertical-align: middle;\n",
       "    }\n",
       "\n",
       "    .dataframe tbody tr th {\n",
       "        vertical-align: top;\n",
       "    }\n",
       "\n",
       "    .dataframe thead th {\n",
       "        text-align: right;\n",
       "    }\n",
       "</style>\n",
       "<table border=\"1\" class=\"dataframe\">\n",
       "  <thead>\n",
       "    <tr style=\"text-align: right;\">\n",
       "      <th></th>\n",
       "      <th>words</th>\n",
       "      <th>imps</th>\n",
       "    </tr>\n",
       "  </thead>\n",
       "  <tbody>\n",
       "    <tr>\n",
       "      <th>1960</th>\n",
       "      <td>beyoncé</td>\n",
       "      <td>0.004247</td>\n",
       "    </tr>\n",
       "    <tr>\n",
       "      <th>5192</th>\n",
       "      <td>dexter</td>\n",
       "      <td>0.003603</td>\n",
       "    </tr>\n",
       "    <tr>\n",
       "      <th>9969</th>\n",
       "      <td>jxmmi</td>\n",
       "      <td>0.003561</td>\n",
       "    </tr>\n",
       "    <tr>\n",
       "      <th>18262</th>\n",
       "      <td>teo</td>\n",
       "      <td>0.003468</td>\n",
       "    </tr>\n",
       "    <tr>\n",
       "      <th>20782</th>\n",
       "      <td>zoowap</td>\n",
       "      <td>0.003338</td>\n",
       "    </tr>\n",
       "    <tr>\n",
       "      <th>738</th>\n",
       "      <td>aight</td>\n",
       "      <td>0.003261</td>\n",
       "    </tr>\n",
       "    <tr>\n",
       "      <th>17948</th>\n",
       "      <td>swisha</td>\n",
       "      <td>0.003067</td>\n",
       "    </tr>\n",
       "    <tr>\n",
       "      <th>6772</th>\n",
       "      <td>fergie</td>\n",
       "      <td>0.003016</td>\n",
       "    </tr>\n",
       "    <tr>\n",
       "      <th>6477</th>\n",
       "      <td>explative</td>\n",
       "      <td>0.002924</td>\n",
       "    </tr>\n",
       "    <tr>\n",
       "      <th>18973</th>\n",
       "      <td>trippy</td>\n",
       "      <td>0.002805</td>\n",
       "    </tr>\n",
       "    <tr>\n",
       "      <th>140</th>\n",
       "      <td>21</td>\n",
       "      <td>0.002774</td>\n",
       "    </tr>\n",
       "    <tr>\n",
       "      <th>11677</th>\n",
       "      <td>miami</td>\n",
       "      <td>0.002724</td>\n",
       "    </tr>\n",
       "    <tr>\n",
       "      <th>15609</th>\n",
       "      <td>sage</td>\n",
       "      <td>0.002632</td>\n",
       "    </tr>\n",
       "    <tr>\n",
       "      <th>13452</th>\n",
       "      <td>peggy</td>\n",
       "      <td>0.002533</td>\n",
       "    </tr>\n",
       "    <tr>\n",
       "      <th>6535</th>\n",
       "      <td>fabo</td>\n",
       "      <td>0.002454</td>\n",
       "    </tr>\n",
       "    <tr>\n",
       "      <th>16983</th>\n",
       "      <td>sosa</td>\n",
       "      <td>0.002445</td>\n",
       "    </tr>\n",
       "    <tr>\n",
       "      <th>9833</th>\n",
       "      <td>joc</td>\n",
       "      <td>0.002416</td>\n",
       "    </tr>\n",
       "    <tr>\n",
       "      <th>5555</th>\n",
       "      <td>doom</td>\n",
       "      <td>0.002406</td>\n",
       "    </tr>\n",
       "    <tr>\n",
       "      <th>15447</th>\n",
       "      <td>royce</td>\n",
       "      <td>0.002368</td>\n",
       "    </tr>\n",
       "    <tr>\n",
       "      <th>20714</th>\n",
       "      <td>yung</td>\n",
       "      <td>0.002295</td>\n",
       "    </tr>\n",
       "    <tr>\n",
       "      <th>12166</th>\n",
       "      <td>mudboy</td>\n",
       "      <td>0.002242</td>\n",
       "    </tr>\n",
       "    <tr>\n",
       "      <th>6030</th>\n",
       "      <td>el</td>\n",
       "      <td>0.002211</td>\n",
       "    </tr>\n",
       "    <tr>\n",
       "      <th>5481</th>\n",
       "      <td>dogg</td>\n",
       "      <td>0.002197</td>\n",
       "    </tr>\n",
       "    <tr>\n",
       "      <th>18332</th>\n",
       "      <td>the</td>\n",
       "      <td>0.002188</td>\n",
       "    </tr>\n",
       "    <tr>\n",
       "      <th>9163</th>\n",
       "      <td>igh</td>\n",
       "      <td>0.002166</td>\n",
       "    </tr>\n",
       "    <tr>\n",
       "      <th>19504</th>\n",
       "      <td>vann</td>\n",
       "      <td>0.002148</td>\n",
       "    </tr>\n",
       "    <tr>\n",
       "      <th>11464</th>\n",
       "      <td>mclennon</td>\n",
       "      <td>0.002108</td>\n",
       "    </tr>\n",
       "    <tr>\n",
       "      <th>7044</th>\n",
       "      <td>flocka</td>\n",
       "      <td>0.002083</td>\n",
       "    </tr>\n",
       "    <tr>\n",
       "      <th>1608</th>\n",
       "      <td>bankhead</td>\n",
       "      <td>0.002038</td>\n",
       "    </tr>\n",
       "    <tr>\n",
       "      <th>2823</th>\n",
       "      <td>bun</td>\n",
       "      <td>0.002011</td>\n",
       "    </tr>\n",
       "  </tbody>\n",
       "</table>\n",
       "</div>"
      ],
      "text/plain": [
       "           words      imps\n",
       "1960     beyoncé  0.004247\n",
       "5192      dexter  0.003603\n",
       "9969       jxmmi  0.003561\n",
       "18262        teo  0.003468\n",
       "20782     zoowap  0.003338\n",
       "738        aight  0.003261\n",
       "17948     swisha  0.003067\n",
       "6772      fergie  0.003016\n",
       "6477   explative  0.002924\n",
       "18973     trippy  0.002805\n",
       "140           21  0.002774\n",
       "11677      miami  0.002724\n",
       "15609       sage  0.002632\n",
       "13452      peggy  0.002533\n",
       "6535        fabo  0.002454\n",
       "16983       sosa  0.002445\n",
       "9833         joc  0.002416\n",
       "5555        doom  0.002406\n",
       "15447      royce  0.002368\n",
       "20714       yung  0.002295\n",
       "12166     mudboy  0.002242\n",
       "6030          el  0.002211\n",
       "5481        dogg  0.002197\n",
       "18332        the  0.002188\n",
       "9163         igh  0.002166\n",
       "19504       vann  0.002148\n",
       "11464   mclennon  0.002108\n",
       "7044      flocka  0.002083\n",
       "1608    bankhead  0.002038\n",
       "2823         bun  0.002011"
      ]
     },
     "execution_count": 208,
     "metadata": {},
     "output_type": "execute_result"
    }
   ],
   "source": [
    "importances_df = pd.DataFrame({\n",
    "    'words': pipe_forest.named_steps['cv'].get_feature_names(),\n",
    "    'imps': pipe_forest.named_steps['forest'].feature_importances_\n",
    "})\n",
    "\n",
    "importances_df.sort_values(by='imps', ascending=False).head(30)"
   ]
  },
  {
   "cell_type": "code",
   "execution_count": 209,
   "id": "c63b7030-ac2c-4912-bac4-b4d718a68bbb",
   "metadata": {},
   "outputs": [],
   "source": [
    "test_preds = pipe.predict(X_test)"
   ]
  },
  {
   "cell_type": "code",
   "execution_count": null,
   "id": "6da3eb64-6cf4-468d-8970-39dadeef7e44",
   "metadata": {},
   "outputs": [],
   "source": []
  },
  {
   "cell_type": "code",
   "execution_count": 210,
   "id": "60407cca-0163-437e-b8d9-b45d0a69881b",
   "metadata": {},
   "outputs": [
    {
     "data": {
      "text/plain": [
       "340       & Lil Phat I-N-D-E-P-E-N-D-E-N-T Do you know...\n",
       "55        The heat is on the heat is on yeah The heat ...\n",
       "428      It's just me and my *Explative*s And my famil...\n",
       "765      Y'all tryna make a next mother*Explative*in' ...\n",
       "467      1 It is I the B-I-G the B-O-I Me oh my ears t...\n",
       "                              ...                        \n",
       "63        Woo! Welcome to the bank Where you deposit Y...\n",
       "1130     New car very noisy Come through and it's roar...\n",
       "863      Aye aye Aye aye aye Woo woo woo woo   1 Well ...\n",
       "465       I keep it playa while some choose to play it...\n",
       "1427     Woah yeah  So I'm skrrting off the scene in a...\n",
       "Name: lyrics, Length: 397, dtype: object"
      ]
     },
     "execution_count": 210,
     "metadata": {},
     "output_type": "execute_result"
    }
   ],
   "source": [
    "X_test"
   ]
  },
  {
   "cell_type": "code",
   "execution_count": 212,
   "id": "c8ab239e-70e2-47c5-b120-ee3acfa7e44f",
   "metadata": {},
   "outputs": [
    {
     "data": {
      "text/html": [
       "<div>\n",
       "<style scoped>\n",
       "    .dataframe tbody tr th:only-of-type {\n",
       "        vertical-align: middle;\n",
       "    }\n",
       "\n",
       "    .dataframe tbody tr th {\n",
       "        vertical-align: top;\n",
       "    }\n",
       "\n",
       "    .dataframe thead th {\n",
       "        text-align: right;\n",
       "    }\n",
       "</style>\n",
       "<table border=\"1\" class=\"dataframe\">\n",
       "  <thead>\n",
       "    <tr style=\"text-align: right;\">\n",
       "      <th></th>\n",
       "      <th>True</th>\n",
       "      <th>Predicted</th>\n",
       "    </tr>\n",
       "  </thead>\n",
       "  <tbody>\n",
       "    <tr>\n",
       "      <th>0</th>\n",
       "      <td>Webbie</td>\n",
       "      <td>Birdman</td>\n",
       "    </tr>\n",
       "    <tr>\n",
       "      <th>1</th>\n",
       "      <td>Lyfe Jennings</td>\n",
       "      <td>Shop Boyz</td>\n",
       "    </tr>\n",
       "    <tr>\n",
       "      <th>2</th>\n",
       "      <td>Kid Cudi</td>\n",
       "      <td>Machine Gun Kelly</td>\n",
       "    </tr>\n",
       "    <tr>\n",
       "      <th>3</th>\n",
       "      <td>Bobby Shmurda</td>\n",
       "      <td>Bobby Shmurda</td>\n",
       "    </tr>\n",
       "    <tr>\n",
       "      <th>4</th>\n",
       "      <td>Big Boi</td>\n",
       "      <td>MF DOOM</td>\n",
       "    </tr>\n",
       "    <tr>\n",
       "      <th>5</th>\n",
       "      <td>50 Cent</td>\n",
       "      <td>Eminem</td>\n",
       "    </tr>\n",
       "    <tr>\n",
       "      <th>6</th>\n",
       "      <td>Plies</td>\n",
       "      <td>Rich The Kid</td>\n",
       "    </tr>\n",
       "    <tr>\n",
       "      <th>7</th>\n",
       "      <td>Lil Nas X</td>\n",
       "      <td>Kanye West</td>\n",
       "    </tr>\n",
       "    <tr>\n",
       "      <th>8</th>\n",
       "      <td>NF</td>\n",
       "      <td>NF</td>\n",
       "    </tr>\n",
       "    <tr>\n",
       "      <th>9</th>\n",
       "      <td>BROCKHAMPTON</td>\n",
       "      <td>BROCKHAMPTON</td>\n",
       "    </tr>\n",
       "    <tr>\n",
       "      <th>10</th>\n",
       "      <td>Bow Wow</td>\n",
       "      <td>Wale</td>\n",
       "    </tr>\n",
       "    <tr>\n",
       "      <th>11</th>\n",
       "      <td>Rod Wave</td>\n",
       "      <td>Jadakiss</td>\n",
       "    </tr>\n",
       "    <tr>\n",
       "      <th>12</th>\n",
       "      <td>Macklemore</td>\n",
       "      <td>Juvenile</td>\n",
       "    </tr>\n",
       "    <tr>\n",
       "      <th>13</th>\n",
       "      <td>A Boogie wit da Hoodie</td>\n",
       "      <td>Kid Cudi</td>\n",
       "    </tr>\n",
       "    <tr>\n",
       "      <th>14</th>\n",
       "      <td>Megan Thee Stallion</td>\n",
       "      <td>Megan Thee Stallion</td>\n",
       "    </tr>\n",
       "    <tr>\n",
       "      <th>15</th>\n",
       "      <td>Chief Keef</td>\n",
       "      <td>Chief Keef</td>\n",
       "    </tr>\n",
       "    <tr>\n",
       "      <th>16</th>\n",
       "      <td>Fabolous</td>\n",
       "      <td>50 Cent</td>\n",
       "    </tr>\n",
       "    <tr>\n",
       "      <th>17</th>\n",
       "      <td>Juice WRLD</td>\n",
       "      <td>Calboy</td>\n",
       "    </tr>\n",
       "    <tr>\n",
       "      <th>18</th>\n",
       "      <td>G-Eazy</td>\n",
       "      <td>Black Eyed Peas</td>\n",
       "    </tr>\n",
       "    <tr>\n",
       "      <th>19</th>\n",
       "      <td>Run The Jewels</td>\n",
       "      <td>Run The Jewels</td>\n",
       "    </tr>\n",
       "  </tbody>\n",
       "</table>\n",
       "</div>"
      ],
      "text/plain": [
       "                      True            Predicted\n",
       "0                   Webbie              Birdman\n",
       "1            Lyfe Jennings            Shop Boyz\n",
       "2                 Kid Cudi    Machine Gun Kelly\n",
       "3            Bobby Shmurda        Bobby Shmurda\n",
       "4                  Big Boi              MF DOOM\n",
       "5                  50 Cent               Eminem\n",
       "6                    Plies         Rich The Kid\n",
       "7                Lil Nas X           Kanye West\n",
       "8                       NF                   NF\n",
       "9             BROCKHAMPTON         BROCKHAMPTON\n",
       "10                 Bow Wow                 Wale\n",
       "11                Rod Wave             Jadakiss\n",
       "12              Macklemore             Juvenile\n",
       "13  A Boogie wit da Hoodie             Kid Cudi\n",
       "14     Megan Thee Stallion  Megan Thee Stallion\n",
       "15              Chief Keef           Chief Keef\n",
       "16                Fabolous              50 Cent\n",
       "17              Juice WRLD               Calboy\n",
       "18                  G-Eazy      Black Eyed Peas\n",
       "19          Run The Jewels       Run The Jewels"
      ]
     },
     "execution_count": 212,
     "metadata": {},
     "output_type": "execute_result"
    }
   ],
   "source": [
    "pd.DataFrame(zip(y_test, test_preds), columns= ['True','Predicted']).head(20)"
   ]
  },
  {
   "cell_type": "code",
   "execution_count": 215,
   "id": "9de16b25-87c8-4c3b-800f-27d14b8747a6",
   "metadata": {},
   "outputs": [],
   "source": [
    "pipe_forest_tdif = Pipeline([\n",
    "    ('tdif', TfidfVectorizer()),\n",
    "    ('forest', RandomForestClassifier(max_depth=60,max_features='auto',min_samples_leaf=1,n_estimators=2000))\n",
    "])"
   ]
  },
  {
   "cell_type": "code",
   "execution_count": 216,
   "id": "6a0bfe2d-7233-44cb-98dc-629409d6ab39",
   "metadata": {},
   "outputs": [
    {
     "name": "stdout",
     "output_type": "stream",
     "text": [
      "1.0\n",
      "0.3501259445843829\n"
     ]
    }
   ],
   "source": [
    "pipe_forest_tdif.fit(X_train,y_train)\n",
    "\n",
    "print(pipe_forest_tdif.score(X_train,y_train))\n",
    "\n",
    "print(pipe_forest_tdif.score(X_test,y_test))"
   ]
  },
  {
   "cell_type": "markdown",
   "id": "200ff13b-2125-4def-9fc3-857a487810cb",
   "metadata": {},
   "source": [
    "### KNN"
   ]
  },
  {
   "cell_type": "code",
   "execution_count": 41,
   "id": "a1d690bb-20ad-4fe1-861a-e764e08ab0bf",
   "metadata": {},
   "outputs": [],
   "source": [
    "pipe_knn = Pipeline([\n",
    "    ('cv', CountVectorizer()),\n",
    "    ('knn', KNeighborsClassifier())\n",
    "])"
   ]
  },
  {
   "cell_type": "code",
   "execution_count": 42,
   "id": "ed7d45ad-969c-4632-a2a4-77f06c1cd27b",
   "metadata": {},
   "outputs": [
    {
     "name": "stdout",
     "output_type": "stream",
     "text": [
      "0.3409090909090909\n",
      "0.07556675062972293\n"
     ]
    }
   ],
   "source": [
    "pipe_knn.fit(X_train,y_train)\n",
    "\n",
    "print(pipe_knn.score(X_train,y_train))\n",
    "\n",
    "print(pipe_knn.score(X_test,y_test))"
   ]
  },
  {
   "cell_type": "markdown",
   "id": "87142f8d-ea6c-4d4a-8550-562fb8ba3abd",
   "metadata": {},
   "source": [
    "### Neural Nets"
   ]
  },
  {
   "cell_type": "code",
   "execution_count": 133,
   "id": "d298194c-425d-4f58-8fd1-6a32ed936654",
   "metadata": {},
   "outputs": [
    {
     "data": {
      "text/plain": [
       "1193               Offset\n",
       "700     Pharrell Williams\n",
       "1430             Lil Tjay\n",
       "1549                JAY-Z\n",
       "1401         Moneybagg Yo\n",
       "              ...        \n",
       "669               Juicy J\n",
       "942      Shelley FKA DRAM\n",
       "200               50 Cent\n",
       "261                 Plies\n",
       "178            Trey Songz\n",
       "Name: artist, Length: 1188, dtype: object"
      ]
     },
     "execution_count": 133,
     "metadata": {},
     "output_type": "execute_result"
    }
   ],
   "source": [
    "y_train"
   ]
  },
  {
   "cell_type": "code",
   "execution_count": 112,
   "id": "6c87a8fc-73b1-4309-8ce2-099c6fb37b3d",
   "metadata": {},
   "outputs": [
    {
     "data": {
      "text/plain": [
       "CountVectorizer()"
      ]
     },
     "execution_count": 112,
     "metadata": {},
     "output_type": "execute_result"
    }
   ],
   "source": [
    "cv = CountVectorizer()\n",
    "\n",
    "cv.fit(lyrics['lyrics'])"
   ]
  },
  {
   "cell_type": "code",
   "execution_count": 115,
   "id": "14b0d754-121a-4a2a-ad98-219c28b70fbb",
   "metadata": {},
   "outputs": [],
   "source": [
    "lyrics_transformed = cv.fit_transform(lyrics['lyrics'],)\n",
    "artist_transformed = cv.fit_transform(lyrics['artist'],)"
   ]
  },
  {
   "cell_type": "code",
   "execution_count": 117,
   "id": "be96565d-27c6-4b1c-8300-66f94a0b084e",
   "metadata": {},
   "outputs": [],
   "source": [
    "words = pd.DataFrame(lyricstransformed.toarray(),columns=cv.get_feature_names())"
   ]
  },
  {
   "cell_type": "code",
   "execution_count": 125,
   "id": "9f3306b1-434f-4cc3-9036-4e2d9373bc60",
   "metadata": {},
   "outputs": [],
   "source": [
    "X = words\n",
    "y = lyrics['artist']"
   ]
  },
  {
   "cell_type": "code",
   "execution_count": 140,
   "id": "550a17d7-0766-4600-b2a1-2dd3c897d6e0",
   "metadata": {},
   "outputs": [],
   "source": [
    "le = LabelEncoder()\n",
    "\n",
    "X = words\n",
    "y_le = le.fit_transform(lyrics['artist'])\n",
    "y = to_categorical(y_le)"
   ]
  },
  {
   "cell_type": "code",
   "execution_count": 141,
   "id": "f4ef641f-93bf-400d-9120-628c74cc894e",
   "metadata": {},
   "outputs": [
    {
     "data": {
      "text/plain": [
       "array([[0., 0., 0., ..., 0., 0., 0.],\n",
       "       [0., 0., 0., ..., 0., 0., 0.],\n",
       "       [0., 0., 0., ..., 0., 0., 0.],\n",
       "       ...,\n",
       "       [0., 0., 0., ..., 0., 0., 0.],\n",
       "       [0., 0., 0., ..., 0., 0., 0.],\n",
       "       [0., 0., 0., ..., 0., 0., 0.]], dtype=float32)"
      ]
     },
     "execution_count": 141,
     "metadata": {},
     "output_type": "execute_result"
    }
   ],
   "source": [
    "y"
   ]
  },
  {
   "cell_type": "code",
   "execution_count": 142,
   "id": "f74315c3-bff0-455b-96d9-52e2202e3628",
   "metadata": {},
   "outputs": [
    {
     "data": {
      "text/plain": [
       "(1585, 159)"
      ]
     },
     "execution_count": 142,
     "metadata": {},
     "output_type": "execute_result"
    }
   ],
   "source": [
    "y.shape"
   ]
  },
  {
   "cell_type": "code",
   "execution_count": null,
   "id": "ad0121cd-d76f-4ddb-83a7-2740647a3b05",
   "metadata": {},
   "outputs": [],
   "source": []
  },
  {
   "cell_type": "code",
   "execution_count": 144,
   "id": "fe788c54-7dcd-4515-b6f2-12ba7ec6ee83",
   "metadata": {},
   "outputs": [],
   "source": [
    "X_train, X_test, y_train, y_test = train_test_split(X,y,stratify=y,random_state=42)"
   ]
  },
  {
   "cell_type": "code",
   "execution_count": 145,
   "id": "74a6774c-0c00-4394-8e46-3be056e102fa",
   "metadata": {},
   "outputs": [],
   "source": [
    "sc = StandardScaler()\n",
    "\n",
    "X_train_sc = sc.fit_transform(X_train)\n",
    "X_test_sc = sc.fit_transform(X_test)"
   ]
  },
  {
   "cell_type": "code",
   "execution_count": 184,
   "id": "38a0dd6f-a6f8-4324-9415-b88c567679ba",
   "metadata": {},
   "outputs": [
    {
     "name": "stdout",
     "output_type": "stream",
     "text": [
      "Epoch 1/10\n",
      "38/38 - 9s - loss: 12.3525 - acc: 0.0513 - val_loss: 10.8073 - val_acc: 0.1914\n",
      "Epoch 2/10\n",
      "38/38 - 7s - loss: 6.8029 - acc: 0.9689 - val_loss: 9.5941 - val_acc: 0.2746\n",
      "Epoch 3/10\n",
      "38/38 - 7s - loss: 5.0244 - acc: 0.9992 - val_loss: 8.2466 - val_acc: 0.2796\n",
      "Epoch 4/10\n",
      "38/38 - 7s - loss: 3.7772 - acc: 0.9992 - val_loss: 7.3079 - val_acc: 0.2947\n",
      "Epoch 5/10\n",
      "38/38 - 7s - loss: 2.8901 - acc: 1.0000 - val_loss: 6.6609 - val_acc: 0.3073\n",
      "Epoch 6/10\n",
      "38/38 - 7s - loss: 2.3102 - acc: 1.0000 - val_loss: 6.2177 - val_acc: 0.3048\n",
      "Epoch 7/10\n",
      "38/38 - 7s - loss: 1.9311 - acc: 1.0000 - val_loss: 5.8974 - val_acc: 0.2796\n",
      "Epoch 8/10\n",
      "38/38 - 7s - loss: 1.6819 - acc: 1.0000 - val_loss: 5.7161 - val_acc: 0.2897\n",
      "Epoch 9/10\n",
      "38/38 - 7s - loss: 1.5206 - acc: 1.0000 - val_loss: 5.5675 - val_acc: 0.2972\n",
      "Epoch 10/10\n",
      "38/38 - 8s - loss: 1.3919 - acc: 1.0000 - val_loss: 5.4300 - val_acc: 0.3023\n"
     ]
    }
   ],
   "source": [
    "model = Sequential()\n",
    "model.add(Dense(X_train_sc.shape[0], activation='relu',kernel_regularizer=l2(0.004)))\n",
    "model.add(Dense(256, activation='relu',kernel_regularizer=l2(0.004)))\n",
    "model.add(Dense(159, activation='softmax',kernel_regularizer=l2(0.004)))\n",
    "\n",
    "model.compile(loss='categorical_crossentropy', optimizer='adam', metrics=['acc'])\n",
    "\n",
    "history = model.fit(\n",
    "    X_train_sc,\n",
    "    y_train,\n",
    "    validation_data=(X_test_sc, y_test),\n",
    "    epochs=10,\n",
    "    batch_size=None,\n",
    "    verbose=2\n",
    ")"
   ]
  },
  {
   "cell_type": "code",
   "execution_count": 178,
   "id": "fb8203e7-9c6b-40de-ae72-17fd9effad77",
   "metadata": {},
   "outputs": [],
   "source": [
    "test_preds = model.predict(X_test_sc)"
   ]
  },
  {
   "cell_type": "code",
   "execution_count": 179,
   "id": "2565532a-a779-43b8-8012-1216e5223b4e",
   "metadata": {},
   "outputs": [],
   "source": [
    "test_label = np.argmax(test_preds, axis = 1)"
   ]
  },
  {
   "cell_type": "code",
   "execution_count": 180,
   "id": "fba5186d-e845-4026-88dc-d03cbe99a3d5",
   "metadata": {},
   "outputs": [],
   "source": [
    "test_pred_label = le.inverse_transform(test_label)"
   ]
  },
  {
   "cell_type": "code",
   "execution_count": 181,
   "id": "d4d6480d-829b-42de-a58e-944236d08b4b",
   "metadata": {},
   "outputs": [],
   "source": [
    "test_true  = np.argmax(y_test,axis =1)"
   ]
  },
  {
   "cell_type": "code",
   "execution_count": 182,
   "id": "5225c5b2-1926-4a70-b27b-76bc12be3ab0",
   "metadata": {},
   "outputs": [],
   "source": [
    "label_true = le.inverse_transform(test_true)"
   ]
  },
  {
   "cell_type": "code",
   "execution_count": 183,
   "id": "2665dd4d-b069-4fb8-a657-0ce2c3f6f6cc",
   "metadata": {},
   "outputs": [
    {
     "data": {
      "text/html": [
       "<div>\n",
       "<style scoped>\n",
       "    .dataframe tbody tr th:only-of-type {\n",
       "        vertical-align: middle;\n",
       "    }\n",
       "\n",
       "    .dataframe tbody tr th {\n",
       "        vertical-align: top;\n",
       "    }\n",
       "\n",
       "    .dataframe thead th {\n",
       "        text-align: right;\n",
       "    }\n",
       "</style>\n",
       "<table border=\"1\" class=\"dataframe\">\n",
       "  <thead>\n",
       "    <tr style=\"text-align: right;\">\n",
       "      <th></th>\n",
       "      <th>True</th>\n",
       "      <th>Predicted</th>\n",
       "    </tr>\n",
       "  </thead>\n",
       "  <tbody>\n",
       "    <tr>\n",
       "      <th>0</th>\n",
       "      <td>Ayo &amp; Teo</td>\n",
       "      <td>Silento</td>\n",
       "    </tr>\n",
       "    <tr>\n",
       "      <th>1</th>\n",
       "      <td>Kirko Bangz</td>\n",
       "      <td>Kirko Bangz</td>\n",
       "    </tr>\n",
       "    <tr>\n",
       "      <th>2</th>\n",
       "      <td>MF DOOM</td>\n",
       "      <td>50 Cent</td>\n",
       "    </tr>\n",
       "    <tr>\n",
       "      <th>3</th>\n",
       "      <td>Three 6 Mafia</td>\n",
       "      <td>Future</td>\n",
       "    </tr>\n",
       "    <tr>\n",
       "      <th>4</th>\n",
       "      <td>Tyga</td>\n",
       "      <td>Wale</td>\n",
       "    </tr>\n",
       "    <tr>\n",
       "      <th>5</th>\n",
       "      <td>Young Thug</td>\n",
       "      <td>Young Thug</td>\n",
       "    </tr>\n",
       "    <tr>\n",
       "      <th>6</th>\n",
       "      <td>G-Eazy</td>\n",
       "      <td>ScHoolboy Q</td>\n",
       "    </tr>\n",
       "    <tr>\n",
       "      <th>7</th>\n",
       "      <td>Lil Tjay</td>\n",
       "      <td>Lil Tecca</td>\n",
       "    </tr>\n",
       "    <tr>\n",
       "      <th>8</th>\n",
       "      <td>Jim Jones</td>\n",
       "      <td>Rick Ross</td>\n",
       "    </tr>\n",
       "    <tr>\n",
       "      <th>9</th>\n",
       "      <td>Waka Flocka Flame</td>\n",
       "      <td>Waka Flocka Flame</td>\n",
       "    </tr>\n",
       "    <tr>\n",
       "      <th>10</th>\n",
       "      <td>The Roots</td>\n",
       "      <td>Logic</td>\n",
       "    </tr>\n",
       "    <tr>\n",
       "      <th>11</th>\n",
       "      <td>Diddy</td>\n",
       "      <td>Jadakiss</td>\n",
       "    </tr>\n",
       "    <tr>\n",
       "      <th>12</th>\n",
       "      <td>Kendrick Lamar</td>\n",
       "      <td>Lil Wayne</td>\n",
       "    </tr>\n",
       "    <tr>\n",
       "      <th>13</th>\n",
       "      <td>XXXTENTACION</td>\n",
       "      <td>XXXTENTACION</td>\n",
       "    </tr>\n",
       "    <tr>\n",
       "      <th>14</th>\n",
       "      <td>K CAMP</td>\n",
       "      <td>Russ</td>\n",
       "    </tr>\n",
       "    <tr>\n",
       "      <th>15</th>\n",
       "      <td>Snoop Dogg</td>\n",
       "      <td>Logic</td>\n",
       "    </tr>\n",
       "    <tr>\n",
       "      <th>16</th>\n",
       "      <td>Ray Dalton</td>\n",
       "      <td>XXXTENTACION</td>\n",
       "    </tr>\n",
       "    <tr>\n",
       "      <th>17</th>\n",
       "      <td>Mustard</td>\n",
       "      <td>Kirko Bangz</td>\n",
       "    </tr>\n",
       "    <tr>\n",
       "      <th>18</th>\n",
       "      <td>Polo G</td>\n",
       "      <td>NLE Choppa</td>\n",
       "    </tr>\n",
       "    <tr>\n",
       "      <th>19</th>\n",
       "      <td>Desiigner</td>\n",
       "      <td>Fetty Wap</td>\n",
       "    </tr>\n",
       "  </tbody>\n",
       "</table>\n",
       "</div>"
      ],
      "text/plain": [
       "                 True          Predicted\n",
       "0           Ayo & Teo            Silento\n",
       "1         Kirko Bangz        Kirko Bangz\n",
       "2             MF DOOM            50 Cent\n",
       "3       Three 6 Mafia             Future\n",
       "4                Tyga               Wale\n",
       "5          Young Thug         Young Thug\n",
       "6              G-Eazy        ScHoolboy Q\n",
       "7            Lil Tjay          Lil Tecca\n",
       "8           Jim Jones          Rick Ross\n",
       "9   Waka Flocka Flame  Waka Flocka Flame\n",
       "10          The Roots              Logic\n",
       "11              Diddy           Jadakiss\n",
       "12     Kendrick Lamar          Lil Wayne\n",
       "13       XXXTENTACION       XXXTENTACION\n",
       "14             K CAMP               Russ\n",
       "15         Snoop Dogg              Logic\n",
       "16         Ray Dalton       XXXTENTACION\n",
       "17            Mustard        Kirko Bangz\n",
       "18             Polo G         NLE Choppa\n",
       "19          Desiigner          Fetty Wap"
      ]
     },
     "execution_count": 183,
     "metadata": {},
     "output_type": "execute_result"
    }
   ],
   "source": [
    "pd.DataFrame(zip(label_true, test_pred_label), columns= ['True','Predicted']).head(20)"
   ]
  },
  {
   "cell_type": "code",
   "execution_count": 173,
   "id": "e5810c18-ce19-41b9-b6af-fa1f803e82eb",
   "metadata": {},
   "outputs": [
    {
     "name": "stdout",
     "output_type": "stream",
     "text": [
      "Epoch 1/5\n",
      "38/38 - 4s - loss: 6.0764 - acc: 0.0160 - val_loss: 4.8292 - val_acc: 0.0781\n",
      "Epoch 2/5\n",
      "38/38 - 4s - loss: 1.4784 - acc: 0.7231 - val_loss: 4.2637 - val_acc: 0.1788\n",
      "Epoch 3/5\n",
      "38/38 - 4s - loss: 0.1097 - acc: 0.9731 - val_loss: 4.1611 - val_acc: 0.2040\n",
      "Epoch 4/5\n",
      "38/38 - 4s - loss: 0.0342 - acc: 0.9916 - val_loss: 4.2916 - val_acc: 0.2091\n",
      "Epoch 5/5\n",
      "38/38 - 4s - loss: 0.0152 - acc: 0.9958 - val_loss: 4.1827 - val_acc: 0.2065\n"
     ]
    }
   ],
   "source": [
    "model = Sequential()\n",
    "model.add(Dense(X_train_sc.shape[0], activation='relu'))\n",
    "model.add(Dropout(0.1))\n",
    "model.add(Dense(256, activation='relu'))\n",
    "model.add(Dropout(0.1))\n",
    "model.add(Dense(159, activation='softmax'))\n",
    "\n",
    "model.compile(loss='categorical_crossentropy', optimizer='adam', metrics=['acc'])\n",
    "\n",
    "history = model.fit(\n",
    "    X_train_sc,\n",
    "    y_train,\n",
    "    validation_data=(X_test_sc, y_test),\n",
    "    epochs=5,\n",
    "    batch_size=None,\n",
    "    verbose=2\n",
    ")"
   ]
  },
  {
   "cell_type": "code",
   "execution_count": 175,
   "id": "00e39fa6-0d66-4ba0-91db-1eff1d8c0eda",
   "metadata": {},
   "outputs": [
    {
     "name": "stdout",
     "output_type": "stream",
     "text": [
      "Epoch 1/8\n",
      "38/38 - 8s - loss: 12.2918 - acc: 0.0185 - val_loss: 10.5593 - val_acc: 0.0680\n",
      "Epoch 2/8\n",
      "38/38 - 6s - loss: 8.1718 - acc: 0.4806 - val_loss: 9.9417 - val_acc: 0.2242\n",
      "Epoch 3/8\n",
      "38/38 - 6s - loss: 6.1613 - acc: 0.8662 - val_loss: 9.3371 - val_acc: 0.2645\n",
      "Epoch 4/8\n",
      "38/38 - 7s - loss: 5.2123 - acc: 0.9613 - val_loss: 8.7100 - val_acc: 0.2594\n",
      "Epoch 5/8\n",
      "38/38 - 6s - loss: 4.5067 - acc: 0.9857 - val_loss: 8.0980 - val_acc: 0.2720\n",
      "Epoch 6/8\n",
      "38/38 - 7s - loss: 3.9497 - acc: 0.9891 - val_loss: 7.6050 - val_acc: 0.2922\n",
      "Epoch 7/8\n",
      "38/38 - 6s - loss: 3.4301 - acc: 0.9916 - val_loss: 7.1895 - val_acc: 0.2922\n",
      "Epoch 8/8\n",
      "38/38 - 7s - loss: 3.0817 - acc: 0.9924 - val_loss: 6.9015 - val_acc: 0.2846\n"
     ]
    }
   ],
   "source": [
    "model = Sequential()\n",
    "model.add(Dense(X_train_sc.shape[0], activation='relu',kernel_regularizer=l2(0.003)))\n",
    "model.add(Dropout(0.3))\n",
    "model.add(Dense(256, activation='relu',kernel_regularizer=l2(0.003)))\n",
    "model.add(Dropout(0.3))\n",
    "model.add(Dense(159, activation='softmax',kernel_regularizer=l2(0.003)))\n",
    "\n",
    "model.compile(loss='categorical_crossentropy', optimizer='adam', metrics=['acc'])\n",
    "\n",
    "history = model.fit(\n",
    "    X_train_sc,\n",
    "    y_train,\n",
    "    validation_data=(X_test_sc, y_test),\n",
    "    epochs=8,\n",
    "    batch_size=None,\n",
    "    verbose=2\n",
    ")"
   ]
  },
  {
   "cell_type": "markdown",
   "id": "df0d8cae-3cd2-41d5-9e15-4edaa6340cbb",
   "metadata": {},
   "source": [
    "### Ada Boost"
   ]
  },
  {
   "cell_type": "code",
   "execution_count": 68,
   "id": "e8537782-da41-48b7-869d-7071326acc73",
   "metadata": {},
   "outputs": [],
   "source": [
    "pipe_ada = Pipeline([\n",
    "    ('cv', CountVectorizer()),\n",
    "    ('ada', AdaBoostClassifier())\n",
    "])"
   ]
  },
  {
   "cell_type": "code",
   "execution_count": 69,
   "id": "8be3dcaa-b487-46ff-8c38-b08f0a430e3e",
   "metadata": {},
   "outputs": [
    {
     "name": "stdout",
     "output_type": "stream",
     "text": [
      "0.020202020202020204\n",
      "0.012594458438287154\n"
     ]
    }
   ],
   "source": [
    "pipe_ada.fit(X_train,y_train)\n",
    "\n",
    "print(pipe_ada.score(X_train,y_train))\n",
    "\n",
    "print(pipe_ada.score(X_test,y_test))"
   ]
  },
  {
   "cell_type": "code",
   "execution_count": null,
   "id": "3137df14-5351-4c2b-9b11-dd739d4ee681",
   "metadata": {},
   "outputs": [],
   "source": []
  }
 ],
 "metadata": {
  "kernelspec": {
   "display_name": "Python 3",
   "language": "python",
   "name": "python3"
  },
  "language_info": {
   "codemirror_mode": {
    "name": "ipython",
    "version": 3
   },
   "file_extension": ".py",
   "mimetype": "text/x-python",
   "name": "python",
   "nbconvert_exporter": "python",
   "pygments_lexer": "ipython3",
   "version": "3.8.8"
  }
 },
 "nbformat": 4,
 "nbformat_minor": 5
}
