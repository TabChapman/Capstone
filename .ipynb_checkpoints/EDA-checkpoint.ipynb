{
 "cells": [
  {
   "cell_type": "code",
   "execution_count": 1,
   "id": "d08d3490-24d5-41f7-8b87-0eb4e8a29afe",
   "metadata": {},
   "outputs": [],
   "source": [
    "import pandas as pd\n",
    "import numpy as np\n",
    "import matplotlib.pyplot as plt"
   ]
  },
  {
   "cell_type": "code",
   "execution_count": 141,
   "id": "5866b7ac-74ec-4aa1-8b15-ac1d9a71b775",
   "metadata": {},
   "outputs": [],
   "source": [
    "from sklearn.feature_extraction.text import CountVectorizer\n",
    "from sklearn.ensemble import RandomForestClassifier\n",
    "from sklearn.model_selection import train_test_split"
   ]
  },
  {
   "cell_type": "code",
   "execution_count": 72,
   "id": "f8dc45ca-0df6-40e4-bfd5-dc8f26a462b9",
   "metadata": {},
   "outputs": [],
   "source": [
    "lyrics = pd.read_csv('./data/lyrics.csv')"
   ]
  },
  {
   "cell_type": "code",
   "execution_count": 92,
   "id": "4dc22290-2f23-40eb-8947-06b144974ad9",
   "metadata": {},
   "outputs": [
    {
     "data": {
      "text/html": [
       "<div>\n",
       "<style scoped>\n",
       "    .dataframe tbody tr th:only-of-type {\n",
       "        vertical-align: middle;\n",
       "    }\n",
       "\n",
       "    .dataframe tbody tr th {\n",
       "        vertical-align: top;\n",
       "    }\n",
       "\n",
       "    .dataframe thead th {\n",
       "        text-align: right;\n",
       "    }\n",
       "</style>\n",
       "<table border=\"1\" class=\"dataframe\">\n",
       "  <thead>\n",
       "    <tr style=\"text-align: right;\">\n",
       "      <th></th>\n",
       "      <th>Unnamed: 0</th>\n",
       "      <th>artist</th>\n",
       "      <th>title</th>\n",
       "      <th>full_title</th>\n",
       "      <th>lyrics</th>\n",
       "      <th>release_date</th>\n",
       "    </tr>\n",
       "  </thead>\n",
       "  <tbody>\n",
       "    <tr>\n",
       "      <th>0</th>\n",
       "      <td>0</td>\n",
       "      <td>T.I.</td>\n",
       "      <td>About The Money</td>\n",
       "      <td>About The Money by T.I. (Ft. Young Thug)</td>\n",
       "      <td>Young Thug, Skooly &amp; T.I.; (We got London On ...</td>\n",
       "      <td>2014-06-03</td>\n",
       "    </tr>\n",
       "    <tr>\n",
       "      <th>1</th>\n",
       "      <td>1</td>\n",
       "      <td>T.I.</td>\n",
       "      <td>Memories Back Then</td>\n",
       "      <td>Memories Back Then by T.I. (Ft. B.o.B, Kendric...</td>\n",
       "      <td>Verse 1 T.I.; Ayy, in my apartment a long time...</td>\n",
       "      <td>2013-09-18</td>\n",
       "    </tr>\n",
       "    <tr>\n",
       "      <th>2</th>\n",
       "      <td>2</td>\n",
       "      <td>T.I.</td>\n",
       "      <td>No Mediocre</td>\n",
       "      <td>No Mediocre by T.I. (Ft. Iggy Azalea)</td>\n",
       "      <td>Hook T.I.; All I fuck bad bitches, I don't wan...</td>\n",
       "      <td>2014-06-17</td>\n",
       "    </tr>\n",
       "    <tr>\n",
       "      <th>3</th>\n",
       "      <td>3</td>\n",
       "      <td>T.I.</td>\n",
       "      <td>That’s All She Wrote</td>\n",
       "      <td>That's All She Wrote by T.I. (Ft. Eminem)</td>\n",
       "      <td>Chorus 1 T.I.; Now I don’t really care what yo...</td>\n",
       "      <td>2010-12-07</td>\n",
       "    </tr>\n",
       "    <tr>\n",
       "      <th>4</th>\n",
       "      <td>4</td>\n",
       "      <td>T.I.</td>\n",
       "      <td>Live Your Life</td>\n",
       "      <td>Live Your Life by T.I. (Ft. Rihanna)</td>\n",
       "      <td>Sample (over intro); Miya hee, miya ho, miya h...</td>\n",
       "      <td>2008-09-23</td>\n",
       "    </tr>\n",
       "    <tr>\n",
       "      <th>...</th>\n",
       "      <td>...</td>\n",
       "      <td>...</td>\n",
       "      <td>...</td>\n",
       "      <td>...</td>\n",
       "      <td>...</td>\n",
       "      <td>...</td>\n",
       "    </tr>\n",
       "    <tr>\n",
       "      <th>1580</th>\n",
       "      <td>5</td>\n",
       "      <td>Tyler, The Creator</td>\n",
       "      <td>911 / Mr. Lonely</td>\n",
       "      <td>911 / Mr. Lonely by Tyler, The Creator (Ft. Fr...</td>\n",
       "      <td>Part I 911; ;  Tyler, The Creator; (Call me, c...</td>\n",
       "      <td>2017-06-30</td>\n",
       "    </tr>\n",
       "    <tr>\n",
       "      <th>1581</th>\n",
       "      <td>6</td>\n",
       "      <td>Tyler, The Creator</td>\n",
       "      <td>Who Dat Boy</td>\n",
       "      <td>Who Dat Boy by Tyler, The Creator (Ft. A$AP Ro...</td>\n",
       "      <td>Verse 1 Tyler, The Creator; Yo, who dat boy? W...</td>\n",
       "      <td>2017-06-29</td>\n",
       "    </tr>\n",
       "    <tr>\n",
       "      <th>1582</th>\n",
       "      <td>7</td>\n",
       "      <td>Tyler, The Creator</td>\n",
       "      <td>NEW MAGIC WAND</td>\n",
       "      <td>NEW MAGIC WAND by Tyler, The Creator</td>\n",
       "      <td>Jerrod Carmichael; Sometimes you gotta close ...</td>\n",
       "      <td>2019-05-17</td>\n",
       "    </tr>\n",
       "    <tr>\n",
       "      <th>1583</th>\n",
       "      <td>8</td>\n",
       "      <td>Tyler, The Creator</td>\n",
       "      <td>Tron Cat</td>\n",
       "      <td>Tron Cat by Tyler, The Creator</td>\n",
       "      <td>; La, la, la, la, la, la, la; AAAAHHH!; ; Vers...</td>\n",
       "      <td>2011-05-10</td>\n",
       "    </tr>\n",
       "    <tr>\n",
       "      <th>1584</th>\n",
       "      <td>9</td>\n",
       "      <td>Tyler, The Creator</td>\n",
       "      <td>Rusty</td>\n",
       "      <td>Rusty by Tyler, The Creator (Ft. Domo Genesis ...</td>\n",
       "      <td>Jason Dill; \"I'm saying, you know, like. All ...</td>\n",
       "      <td>2013-04-01</td>\n",
       "    </tr>\n",
       "  </tbody>\n",
       "</table>\n",
       "<p>1585 rows × 6 columns</p>\n",
       "</div>"
      ],
      "text/plain": [
       "      Unnamed: 0              artist                 title  \\\n",
       "0              0                T.I.       About The Money   \n",
       "1              1                T.I.    Memories Back Then   \n",
       "2              2                T.I.           No Mediocre   \n",
       "3              3                T.I.  That’s All She Wrote   \n",
       "4              4                T.I.        Live Your Life   \n",
       "...          ...                 ...                   ...   \n",
       "1580           5  Tyler, The Creator      911 / Mr. Lonely   \n",
       "1581           6  Tyler, The Creator           Who Dat Boy   \n",
       "1582           7  Tyler, The Creator        NEW MAGIC WAND   \n",
       "1583           8  Tyler, The Creator              Tron Cat   \n",
       "1584           9  Tyler, The Creator                 Rusty   \n",
       "\n",
       "                                             full_title  \\\n",
       "0              About The Money by T.I. (Ft. Young Thug)   \n",
       "1     Memories Back Then by T.I. (Ft. B.o.B, Kendric...   \n",
       "2                 No Mediocre by T.I. (Ft. Iggy Azalea)   \n",
       "3             That's All She Wrote by T.I. (Ft. Eminem)   \n",
       "4                  Live Your Life by T.I. (Ft. Rihanna)   \n",
       "...                                                 ...   \n",
       "1580  911 / Mr. Lonely by Tyler, The Creator (Ft. Fr...   \n",
       "1581  Who Dat Boy by Tyler, The Creator (Ft. A$AP Ro...   \n",
       "1582               NEW MAGIC WAND by Tyler, The Creator   \n",
       "1583                     Tron Cat by Tyler, The Creator   \n",
       "1584  Rusty by Tyler, The Creator (Ft. Domo Genesis ...   \n",
       "\n",
       "                                                 lyrics release_date  \n",
       "0      Young Thug, Skooly & T.I.; (We got London On ...   2014-06-03  \n",
       "1     Verse 1 T.I.; Ayy, in my apartment a long time...   2013-09-18  \n",
       "2     Hook T.I.; All I fuck bad bitches, I don't wan...   2014-06-17  \n",
       "3     Chorus 1 T.I.; Now I don’t really care what yo...   2010-12-07  \n",
       "4     Sample (over intro); Miya hee, miya ho, miya h...   2008-09-23  \n",
       "...                                                 ...          ...  \n",
       "1580  Part I 911; ;  Tyler, The Creator; (Call me, c...   2017-06-30  \n",
       "1581  Verse 1 Tyler, The Creator; Yo, who dat boy? W...   2017-06-29  \n",
       "1582   Jerrod Carmichael; Sometimes you gotta close ...   2019-05-17  \n",
       "1583  ; La, la, la, la, la, la, la; AAAAHHH!; ; Vers...   2011-05-10  \n",
       "1584   Jason Dill; \"I'm saying, you know, like. All ...   2013-04-01  \n",
       "\n",
       "[1585 rows x 6 columns]"
      ]
     },
     "execution_count": 92,
     "metadata": {},
     "output_type": "execute_result"
    }
   ],
   "source": [
    "lyrics"
   ]
  },
  {
   "cell_type": "code",
   "execution_count": 74,
   "id": "03d48936-8194-48d9-93ca-02f26c2581f8",
   "metadata": {},
   "outputs": [
    {
     "name": "stdout",
     "output_type": "stream",
     "text": [
      "<class 'pandas.core.frame.DataFrame'>\n",
      "RangeIndex: 1585 entries, 0 to 1584\n",
      "Data columns (total 6 columns):\n",
      "Unnamed: 0      1585 non-null int64\n",
      "artist          1585 non-null object\n",
      "title           1585 non-null object\n",
      "full_title      1585 non-null object\n",
      "lyrics          1585 non-null object\n",
      "release_date    1507 non-null object\n",
      "dtypes: int64(1), object(5)\n",
      "memory usage: 74.4+ KB\n"
     ]
    }
   ],
   "source": [
    "lyrics.info()"
   ]
  },
  {
   "cell_type": "code",
   "execution_count": 75,
   "id": "96a3f048-0bad-41ee-a777-048b31cc1a76",
   "metadata": {},
   "outputs": [],
   "source": [
    "lyrics['release_date'] = pd.to_datetime(lyrics['release_date'])"
   ]
  },
  {
   "cell_type": "code",
   "execution_count": 115,
   "id": "f667fee7-7c38-4e98-8c8d-5f14f50c5456",
   "metadata": {},
   "outputs": [],
   "source": [
    "lyrics['lyrics'] = lyrics['lyrics'].str.replace('[', '')\n",
    "lyrics['lyrics'] = lyrics['lyrics'].str.replace('\\n',' ')\n",
    "lyrics['lyrics'] = lyrics['lyrics'].str.replace('Intro','')\n",
    "lyrics['lyrics'] = lyrics['lyrics'].str.replace(':','')\n",
    "lyrics['lyrics'] = lyrics['lyrics'].str.replace('Verse','')\n",
    "lyrics['lyrics'] = lyrics['lyrics'].str.replace('Hook','')\n",
    "lyrics['lyrics'] = lyrics['lyrics'].str.replace('Chorus','')\n",
    "lyrics['lyrics'] = lyrics['lyrics'].str.replace('Sample','')\n",
    "lyrics['lyrics'] = lyrics['lyrics'].str.replace('intro','')\n",
    "lyrics['lyrics'] = lyrics['lyrics'].str.replace(',','')\n",
    "lyrics['lyrics'] = lyrics['lyrics'].str.replace(';','')\n",
    "lyrics['lyrics'] = lyrics['lyrics'].str.replace('\"','')"
   ]
  },
  {
   "cell_type": "code",
   "execution_count": 110,
   "id": "4d4935c0-bea3-4d12-b12e-b2cdbf4afb13",
   "metadata": {},
   "outputs": [],
   "source": [
    "for name in lyrics['artist'].unique():\n",
    "    lyrics['lyrics'] = lyrics['lyrics'].str.replace(f'{name}','')"
   ]
  },
  {
   "cell_type": "code",
   "execution_count": 116,
   "id": "e872509b-c7bb-4f4a-9f3e-fff41169179c",
   "metadata": {},
   "outputs": [
    {
     "data": {
      "text/plain": [
       "0         Skooly &  (We got London On Da Track) Woah Y...\n",
       "1        1  Ayy in my apartment a long time ago I knew...\n",
       "2         All I fuck bad bitches I don't want no medio...\n",
       "3        1  Now I don’t really care what you call me J...\n",
       "4        (over ) Miya hee miya ho miya hu miya ha-ha M...\n",
       "                              ...                        \n",
       "1580    Part I 911    (Call me call me call me) Uh (Ca...\n",
       "1581     1  Yo who dat boy? Who him is? Him that ni-gg...\n",
       "1582     Jerrod Carmichael Sometimes you gotta close a...\n",
       "1583     La la la la la la la AAAAHHH!   Satan's getti...\n",
       "1584     Jason Dill I'm saying you know like. All I ev...\n",
       "Name: lyrics, Length: 1585, dtype: object"
      ]
     },
     "execution_count": 116,
     "metadata": {},
     "output_type": "execute_result"
    }
   ],
   "source": [
    "lyrics['lyrics']"
   ]
  },
  {
   "cell_type": "code",
   "execution_count": 99,
   "id": "82b0a1ea-d2fd-4acb-9150-89c59c37fa38",
   "metadata": {},
   "outputs": [
    {
     "data": {
      "text/html": [
       "<div>\n",
       "<style scoped>\n",
       "    .dataframe tbody tr th:only-of-type {\n",
       "        vertical-align: middle;\n",
       "    }\n",
       "\n",
       "    .dataframe tbody tr th {\n",
       "        vertical-align: top;\n",
       "    }\n",
       "\n",
       "    .dataframe thead th {\n",
       "        text-align: right;\n",
       "    }\n",
       "</style>\n",
       "<table border=\"1\" class=\"dataframe\">\n",
       "  <thead>\n",
       "    <tr style=\"text-align: right;\">\n",
       "      <th></th>\n",
       "      <th>Unnamed: 0</th>\n",
       "    </tr>\n",
       "    <tr>\n",
       "      <th>release_date</th>\n",
       "      <th></th>\n",
       "    </tr>\n",
       "  </thead>\n",
       "  <tbody>\n",
       "    <tr>\n",
       "      <th>1986.0</th>\n",
       "      <td>25</td>\n",
       "    </tr>\n",
       "    <tr>\n",
       "      <th>1990.0</th>\n",
       "      <td>7</td>\n",
       "    </tr>\n",
       "    <tr>\n",
       "      <th>1991.0</th>\n",
       "      <td>0</td>\n",
       "    </tr>\n",
       "    <tr>\n",
       "      <th>1992.0</th>\n",
       "      <td>23</td>\n",
       "    </tr>\n",
       "    <tr>\n",
       "      <th>1993.0</th>\n",
       "      <td>40</td>\n",
       "    </tr>\n",
       "    <tr>\n",
       "      <th>1994.0</th>\n",
       "      <td>61</td>\n",
       "    </tr>\n",
       "    <tr>\n",
       "      <th>1995.0</th>\n",
       "      <td>25</td>\n",
       "    </tr>\n",
       "    <tr>\n",
       "      <th>1996.0</th>\n",
       "      <td>66</td>\n",
       "    </tr>\n",
       "    <tr>\n",
       "      <th>1997.0</th>\n",
       "      <td>66</td>\n",
       "    </tr>\n",
       "    <tr>\n",
       "      <th>1998.0</th>\n",
       "      <td>90</td>\n",
       "    </tr>\n",
       "    <tr>\n",
       "      <th>1999.0</th>\n",
       "      <td>63</td>\n",
       "    </tr>\n",
       "    <tr>\n",
       "      <th>2000.0</th>\n",
       "      <td>51</td>\n",
       "    </tr>\n",
       "    <tr>\n",
       "      <th>2001.0</th>\n",
       "      <td>39</td>\n",
       "    </tr>\n",
       "    <tr>\n",
       "      <th>2002.0</th>\n",
       "      <td>45</td>\n",
       "    </tr>\n",
       "    <tr>\n",
       "      <th>2003.0</th>\n",
       "      <td>50</td>\n",
       "    </tr>\n",
       "    <tr>\n",
       "      <th>2004.0</th>\n",
       "      <td>64</td>\n",
       "    </tr>\n",
       "    <tr>\n",
       "      <th>2005.0</th>\n",
       "      <td>140</td>\n",
       "    </tr>\n",
       "    <tr>\n",
       "      <th>2006.0</th>\n",
       "      <td>93</td>\n",
       "    </tr>\n",
       "    <tr>\n",
       "      <th>2007.0</th>\n",
       "      <td>130</td>\n",
       "    </tr>\n",
       "    <tr>\n",
       "      <th>2008.0</th>\n",
       "      <td>113</td>\n",
       "    </tr>\n",
       "    <tr>\n",
       "      <th>2009.0</th>\n",
       "      <td>122</td>\n",
       "    </tr>\n",
       "    <tr>\n",
       "      <th>2010.0</th>\n",
       "      <td>156</td>\n",
       "    </tr>\n",
       "    <tr>\n",
       "      <th>2011.0</th>\n",
       "      <td>242</td>\n",
       "    </tr>\n",
       "    <tr>\n",
       "      <th>2012.0</th>\n",
       "      <td>338</td>\n",
       "    </tr>\n",
       "    <tr>\n",
       "      <th>2013.0</th>\n",
       "      <td>595</td>\n",
       "    </tr>\n",
       "    <tr>\n",
       "      <th>2014.0</th>\n",
       "      <td>461</td>\n",
       "    </tr>\n",
       "    <tr>\n",
       "      <th>2015.0</th>\n",
       "      <td>562</td>\n",
       "    </tr>\n",
       "    <tr>\n",
       "      <th>2016.0</th>\n",
       "      <td>518</td>\n",
       "    </tr>\n",
       "    <tr>\n",
       "      <th>2017.0</th>\n",
       "      <td>519</td>\n",
       "    </tr>\n",
       "    <tr>\n",
       "      <th>2018.0</th>\n",
       "      <td>946</td>\n",
       "    </tr>\n",
       "    <tr>\n",
       "      <th>2019.0</th>\n",
       "      <td>577</td>\n",
       "    </tr>\n",
       "    <tr>\n",
       "      <th>2020.0</th>\n",
       "      <td>331</td>\n",
       "    </tr>\n",
       "    <tr>\n",
       "      <th>2021.0</th>\n",
       "      <td>129</td>\n",
       "    </tr>\n",
       "  </tbody>\n",
       "</table>\n",
       "</div>"
      ],
      "text/plain": [
       "              Unnamed: 0\n",
       "release_date            \n",
       "1986.0                25\n",
       "1990.0                 7\n",
       "1991.0                 0\n",
       "1992.0                23\n",
       "1993.0                40\n",
       "1994.0                61\n",
       "1995.0                25\n",
       "1996.0                66\n",
       "1997.0                66\n",
       "1998.0                90\n",
       "1999.0                63\n",
       "2000.0                51\n",
       "2001.0                39\n",
       "2002.0                45\n",
       "2003.0                50\n",
       "2004.0                64\n",
       "2005.0               140\n",
       "2006.0                93\n",
       "2007.0               130\n",
       "2008.0               113\n",
       "2009.0               122\n",
       "2010.0               156\n",
       "2011.0               242\n",
       "2012.0               338\n",
       "2013.0               595\n",
       "2014.0               461\n",
       "2015.0               562\n",
       "2016.0               518\n",
       "2017.0               519\n",
       "2018.0               946\n",
       "2019.0               577\n",
       "2020.0               331\n",
       "2021.0               129"
      ]
     },
     "execution_count": 99,
     "metadata": {},
     "output_type": "execute_result"
    }
   ],
   "source": [
    "lyrics.groupby(lyrics.release_date.dt.year).sum()"
   ]
  },
  {
   "cell_type": "code",
   "execution_count": 102,
   "id": "2e978119-1797-4f33-abc3-d74bd5a9661e",
   "metadata": {},
   "outputs": [
    {
     "data": {
      "text/plain": [
       "<AxesSubplot:xlabel='release_date'>"
      ]
     },
     "execution_count": 102,
     "metadata": {},
     "output_type": "execute_result"
    },
    {
     "data": {
      "image/png": "[encoded data removed]",
      "text/plain": [
       "<Figure size 432x288 with 1 Axes>"
      ]
     },
     "metadata": {
      "needs_background": "light"
     },
     "output_type": "display_data"
    }
   ],
   "source": [
    "lyrics.groupby(lyrics.release_date.dt.year).sum().plot()"
   ]
  },
  {
   "cell_type": "code",
   "execution_count": 119,
   "id": "4056550f-179e-4a88-ad38-c275b51dd535",
   "metadata": {},
   "outputs": [],
   "source": [
    "cv = CountVectorizer()"
   ]
  },
  {
   "cell_type": "code",
   "execution_count": 126,
   "id": "e12336f0-0f2b-4f79-9748-3a20bee6cc57",
   "metadata": {},
   "outputs": [
    {
     "data": {
      "text/plain": [
       "CountVectorizer()"
      ]
     },
     "execution_count": 126,
     "metadata": {},
     "output_type": "execute_result"
    }
   ],
   "source": [
    "cv.fit(lyrics['lyrics'])"
   ]
  },
  {
   "cell_type": "code",
   "execution_count": 142,
   "id": "b568d50f-a3b7-4632-9c10-fdfb4420e838",
   "metadata": {},
   "outputs": [],
   "source": [
    "lyricstransformed = cv.fit_transform(lyrics['lyrics'],)"
   ]
  },
  {
   "cell_type": "code",
   "execution_count": 130,
   "id": "82a463c7-a446-4a6a-9b22-5511695e25f7",
   "metadata": {},
   "outputs": [],
   "source": [
    "cv.get_feature_names();"
   ]
  },
  {
   "cell_type": "code",
   "execution_count": 143,
   "id": "a0fc0ed8-462e-4246-bd69-05559bcd3289",
   "metadata": {},
   "outputs": [],
   "source": [
    "words = pd.DataFrame(lyricstransformed.toarray(),columns=cv.get_feature_names())"
   ]
  },
  {
   "cell_type": "code",
   "execution_count": 144,
   "id": "b08476dc-3101-4ad2-9dd4-daf52ff1f49a",
   "metadata": {},
   "outputs": [
    {
     "data": {
      "text/plain": [
       "the       31742\n",
       "you       29058\n",
       "it        19592\n",
       "my        16771\n",
       "and       15626\n",
       "me        15229\n",
       "to        14509\n",
       "that      13893\n",
       "in        11933\n",
       "on        11420\n",
       "like       9661\n",
       "up         8496\n",
       "yeah       8308\n",
       "with       7710\n",
       "got        7364\n",
       "don        6929\n",
       "know       6764\n",
       "we         6712\n",
       "all        6674\n",
       "your       6509\n",
       "get        6195\n",
       "she        5830\n",
       "they       5666\n",
       "what       5446\n",
       "of         5442\n",
       "for        5428\n",
       "nigga      5371\n",
       "be         5148\n",
       "ain        5148\n",
       "can        4954\n",
       "this       4875\n",
       "bitch      4795\n",
       "just       4784\n",
       "but        4711\n",
       "no         4646\n",
       "is         4317\n",
       "so         4306\n",
       "out        4088\n",
       "when       3949\n",
       "do         3923\n",
       "fuck       3872\n",
       "shit       3736\n",
       "now        3667\n",
       "go         3641\n",
       "niggas     3598\n",
       "her        3391\n",
       "if         3386\n",
       "love       3188\n",
       "oh         3102\n",
       "let        3089\n",
       "dtype: int64"
      ]
     },
     "execution_count": 144,
     "metadata": {},
     "output_type": "execute_result"
    }
   ],
   "source": [
    "words.sum().sort_values(ascending=False).head(50)"
   ]
  },
  {
   "cell_type": "code",
   "execution_count": 145,
   "id": "6067d479-d805-49a0-a5c0-4192d8191d0a",
   "metadata": {},
   "outputs": [],
   "source": [
    "X = words\n",
    "y = lyrics['artist']"
   ]
  },
  {
   "cell_type": "code",
   "execution_count": 146,
   "id": "272535a2-b9db-4f6a-9b91-7904abe50721",
   "metadata": {},
   "outputs": [],
   "source": [
    "X_train, X_test, y_train, y_test = train_test_split(X,y,random_state=42)"
   ]
  },
  {
   "cell_type": "code",
   "execution_count": 147,
   "id": "95b91f42-8200-479e-910f-95f035fb5f4a",
   "metadata": {},
   "outputs": [],
   "source": [
    "forest = RandomForestClassifier()"
   ]
  },
  {
   "cell_type": "code",
   "execution_count": 148,
   "id": "4102627e-93eb-415a-9ee3-d6c71a9d10d8",
   "metadata": {},
   "outputs": [
    {
     "data": {
      "text/plain": [
       "RandomForestClassifier()"
      ]
     },
     "execution_count": 148,
     "metadata": {},
     "output_type": "execute_result"
    }
   ],
   "source": [
    "forest.fit(X_train,y_train)"
   ]
  },
  {
   "cell_type": "code",
   "execution_count": 149,
   "id": "3f2af3d5-3ef2-490c-a9a7-fd9cccfe29e2",
   "metadata": {},
   "outputs": [
    {
     "data": {
      "text/plain": [
       "1.0"
      ]
     },
     "execution_count": 149,
     "metadata": {},
     "output_type": "execute_result"
    }
   ],
   "source": [
    "forest.score(X_train,y_train)"
   ]
  },
  {
   "cell_type": "code",
   "execution_count": 150,
   "id": "bf0da100-d7d7-4f01-b0f9-4c761b754f94",
   "metadata": {},
   "outputs": [
    {
     "data": {
      "text/plain": [
       "0.29219143576826195"
      ]
     },
     "execution_count": 150,
     "metadata": {},
     "output_type": "execute_result"
    }
   ],
   "source": [
    "forest.score(X_test,y_test)"
   ]
  },
  {
   "cell_type": "code",
   "execution_count": null,
   "id": "00bb9e6b-4e30-45d2-b66b-aaf1a4a48f19",
   "metadata": {},
   "outputs": [],
   "source": []
  }
 ],
 "metadata": {
  "kernelspec": {
   "display_name": "Python 3",
   "language": "python",
   "name": "python3"
  },
  "language_info": {
   "codemirror_mode": {
    "name": "ipython",
    "version": 3
   },
   "file_extension": ".py",
   "mimetype": "text/x-python",
   "name": "python",
   "nbconvert_exporter": "python",
   "pygments_lexer": "ipython3",
   "version": "3.8.8"
  }
 },
 "nbformat": 4,
 "nbformat_minor": 5
}
