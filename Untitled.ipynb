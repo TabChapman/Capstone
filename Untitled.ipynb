{
 "cells": [
  {
   "cell_type": "code",
   "execution_count": 6,
   "id": "22b04813-d960-40ce-82d0-099d209ece07",
   "metadata": {},
   "outputs": [],
   "source": [
    "import pandas as pd\n",
    "import numpy as np \n",
    "import matplotlib.pyplot as plt\n",
    "\n",
    "import markovify"
   ]
  },
  {
   "cell_type": "code",
   "execution_count": 5,
   "id": "76deef34-bb07-47b1-819a-f4d0342c3889",
   "metadata": {},
   "outputs": [
    {
     "name": "stdout",
     "output_type": "stream",
     "text": [
      "Collecting markovify\n",
      "  Downloading markovify-0.9.3.tar.gz (28 kB)\n",
      "Collecting unidecode\n",
      "  Downloading Unidecode-1.3.2-py3-none-any.whl (235 kB)\n",
      "\u001b[K     |████████████████████████████████| 235 kB 5.3 MB/s eta 0:00:01\n",
      "\u001b[?25hBuilding wheels for collected packages: markovify\n",
      "  Building wheel for markovify (setup.py) ... \u001b[?25ldone\n",
      "\u001b[?25h  Created wheel for markovify: filename=markovify-0.9.3-py3-none-any.whl size=18601 sha256=9d17fa303a0f464e6b600df9817cb1e8c984bda09acc6efe173e2388fc9a902e\n",
      "  Stored in directory: /Users/tabchapman/Library/Caches/pip/wheels/6d/91/54/a72eab4bae3af86df9a3a7588e2498bf7813f5b3d06813a3e7\n",
      "Successfully built markovify\n",
      "Installing collected packages: unidecode, markovify\n",
      "Successfully installed markovify-0.9.3 unidecode-1.3.2\n",
      "Note: you may need to restart the kernel to use updated packages.\n"
     ]
    }
   ],
   "source": [
    "pip install markovify"
   ]
  },
  {
   "cell_type": "code",
   "execution_count": 2,
   "id": "3eb646c9-cc12-4754-9fad-8b9e9628b2b2",
   "metadata": {},
   "outputs": [],
   "source": [
    "lyrics = pd.read_csv('./data/clean_lyrics.csv')"
   ]
  },
  {
   "cell_type": "code",
   "execution_count": 3,
   "id": "c18c87a8-4d21-4e47-b30e-f00f1f018d9d",
   "metadata": {},
   "outputs": [
    {
     "data": {
      "text/html": [
       "<div>\n",
       "<style scoped>\n",
       "    .dataframe tbody tr th:only-of-type {\n",
       "        vertical-align: middle;\n",
       "    }\n",
       "\n",
       "    .dataframe tbody tr th {\n",
       "        vertical-align: top;\n",
       "    }\n",
       "\n",
       "    .dataframe thead th {\n",
       "        text-align: right;\n",
       "    }\n",
       "</style>\n",
       "<table border=\"1\" class=\"dataframe\">\n",
       "  <thead>\n",
       "    <tr style=\"text-align: right;\">\n",
       "      <th></th>\n",
       "      <th>Unnamed: 0</th>\n",
       "      <th>artist</th>\n",
       "      <th>lyrics</th>\n",
       "    </tr>\n",
       "  </thead>\n",
       "  <tbody>\n",
       "    <tr>\n",
       "      <th>0</th>\n",
       "      <td>0</td>\n",
       "      <td>T.I.</td>\n",
       "      <td>Skooly &amp;  (We got London On Da Track) Woah Y...</td>\n",
       "    </tr>\n",
       "    <tr>\n",
       "      <th>1</th>\n",
       "      <td>1</td>\n",
       "      <td>T.I.</td>\n",
       "      <td>1  Ayy in my apartment a long time ago I knew...</td>\n",
       "    </tr>\n",
       "    <tr>\n",
       "      <th>2</th>\n",
       "      <td>2</td>\n",
       "      <td>T.I.</td>\n",
       "      <td>All I *Explative* bad *Explative*es I don't ...</td>\n",
       "    </tr>\n",
       "    <tr>\n",
       "      <th>3</th>\n",
       "      <td>3</td>\n",
       "      <td>T.I.</td>\n",
       "      <td>1  Now I don’t really care what you call me J...</td>\n",
       "    </tr>\n",
       "    <tr>\n",
       "      <th>4</th>\n",
       "      <td>4</td>\n",
       "      <td>T.I.</td>\n",
       "      <td>(over ) Miya hee miya ho miya hu miya ha-ha M...</td>\n",
       "    </tr>\n",
       "    <tr>\n",
       "      <th>...</th>\n",
       "      <td>...</td>\n",
       "      <td>...</td>\n",
       "      <td>...</td>\n",
       "    </tr>\n",
       "    <tr>\n",
       "      <th>1580</th>\n",
       "      <td>1580</td>\n",
       "      <td>Tyler, The Creator</td>\n",
       "      <td>I 911    (Call me call me call me) Uh (Call m...</td>\n",
       "    </tr>\n",
       "    <tr>\n",
       "      <th>1581</th>\n",
       "      <td>1581</td>\n",
       "      <td>Tyler, The Creator</td>\n",
       "      <td>1  Yo who dat boy? Who him is? Him that ni-gg...</td>\n",
       "    </tr>\n",
       "    <tr>\n",
       "      <th>1582</th>\n",
       "      <td>1582</td>\n",
       "      <td>Tyler, The Creator</td>\n",
       "      <td>Jerrod Carmichael Sometimes you gotta close a...</td>\n",
       "    </tr>\n",
       "    <tr>\n",
       "      <th>1583</th>\n",
       "      <td>1583</td>\n",
       "      <td>Tyler, The Creator</td>\n",
       "      <td>La la la la la la la AAAAHHH!   Satan's getti...</td>\n",
       "    </tr>\n",
       "    <tr>\n",
       "      <th>1584</th>\n",
       "      <td>1584</td>\n",
       "      <td>Tyler, The Creator</td>\n",
       "      <td>Jason Dill I'm saying you know like. All I ev...</td>\n",
       "    </tr>\n",
       "  </tbody>\n",
       "</table>\n",
       "<p>1585 rows × 3 columns</p>\n",
       "</div>"
      ],
      "text/plain": [
       "      Unnamed: 0              artist  \\\n",
       "0              0                T.I.   \n",
       "1              1                T.I.   \n",
       "2              2                T.I.   \n",
       "3              3                T.I.   \n",
       "4              4                T.I.   \n",
       "...          ...                 ...   \n",
       "1580        1580  Tyler, The Creator   \n",
       "1581        1581  Tyler, The Creator   \n",
       "1582        1582  Tyler, The Creator   \n",
       "1583        1583  Tyler, The Creator   \n",
       "1584        1584  Tyler, The Creator   \n",
       "\n",
       "                                                 lyrics  \n",
       "0       Skooly &  (We got London On Da Track) Woah Y...  \n",
       "1      1  Ayy in my apartment a long time ago I knew...  \n",
       "2       All I *Explative* bad *Explative*es I don't ...  \n",
       "3      1  Now I don’t really care what you call me J...  \n",
       "4      (over ) Miya hee miya ho miya hu miya ha-ha M...  \n",
       "...                                                 ...  \n",
       "1580   I 911    (Call me call me call me) Uh (Call m...  \n",
       "1581   1  Yo who dat boy? Who him is? Him that ni-gg...  \n",
       "1582   Jerrod Carmichael Sometimes you gotta close a...  \n",
       "1583   La la la la la la la AAAAHHH!   Satan's getti...  \n",
       "1584   Jason Dill I'm saying you know like. All I ev...  \n",
       "\n",
       "[1585 rows x 3 columns]"
      ]
     },
     "execution_count": 3,
     "metadata": {},
     "output_type": "execute_result"
    }
   ],
   "source": [
    "lyrics"
   ]
  },
  {
   "cell_type": "code",
   "execution_count": 10,
   "id": "3454a3dd-a544-49cf-9061-931946d4bd4c",
   "metadata": {},
   "outputs": [
    {
     "name": "stderr",
     "output_type": "stream",
     "text": [
      "<ipython-input-10-b62d9d2e5d6b>:1: FutureWarning: The signature of `Series.to_csv` was aligned to that of `DataFrame.to_csv`, and argument 'header' will change its default value from False to True: please pass an explicit value to suppress this warning.\n",
      "  lyrics['lyrics'].to_csv('./data/lyrics_corpus')\n"
     ]
    }
   ],
   "source": [
    "lyrics['lyrics'].to_csv('./data/lyrics_corpus')"
   ]
  },
  {
   "cell_type": "code",
   "execution_count": 13,
   "id": "bd85e055-e925-4d31-af03-40c04d279b8a",
   "metadata": {},
   "outputs": [
    {
     "name": "stdout",
     "output_type": "stream",
     "text": [
      "It's all goody as long as she happy It ain't like they trill but really fake love you Outro throughout Hold me close to you if it's not nice!\n",
      "Would you love me now Would you love me I just wanna hold you Tell me what must I feel glorious glorious Got a silence on the spot like woo!\n",
      "Who who really with the?62EmbedShare URLCopyEmbedCopy 1124, & Baka Uh Murda on the score coming to you and we don’t need no help mayne Boosie!\n",
      "I guess I'm a cl*Explative*ic man Your needs get met by the street With a basketball and some Now and Laters gumdrops jelly beans I wouldn't let me see if they would carry me Bitches wanna marry me they must work faster But the *Explative* up 3 Mannie Fresh I know that I’m about my bucks Use the *Explative* Took an unexpected twist like the *Explative*cat?\n",
      "More power to you best love I ever told you she don't need you a fool!\n",
      "You want a *Explative* say they turned me up baby I'm gonna show you new things have you How I'm supposed to pay this hoe just to meet her off treat her like her like her Oh lord!\n",
      "The world is a front When I want to thank You Heavenly Father Yeah it feel so good but what you s'posed to eat and we kept In touch through his friend Mike The world is this?\n",
      "Is you the you the queen a better team Than Kareem and Worthy in that smoke I'm going going I'm on my mind yeah I got *Explative* on my neck I’ve been up stressed?\n",
      "Why my diesel have fiends in the Red Light District!\n",
      "The bigger the bill the harder you ball Well I'm throwing mine cause my nuts heavy And I don't play with your bad *Explative* I read his post on your *Explative* was at dog when I get real with you?\n",
      "The world is this?\n",
      "Iggy spitting y'all *Explative*es better get some of your planet across to another let the gun do?\n",
      "Don't want this love anymore I search for something I'm missing and disappear like some ice cream truck I can make it last forever?\n",
      "What would you write rhymes Clocked me and you?\n",
      "Where the bag at?\n",
      "You better act like that?\n",
      "Step into the damn railing Outro Yo chill shorty let me roll the windows down got to keep me focused you want this love anymore I search for something I'm missing and disappear like some ice on ya ear Neck wrist & ya hand You prolly wanna *Explative* this tattoo You the you the you the you the queen Then why you mad at me Huh?\n",
      "Where your boyfriend keep up the champagne pop!\n",
      "All you *Explative*s feel like Oh My Darling Clementine He hold his heart when he telling rhyme When it's repping time I say that?\n",
      "That's right baby life goes on How many brothers fell victim to the uh tick-tock n'ya don’t quit Biatch!23EmbedShare URLCopyEmbedCopy 227, Man don't you pick make her make a *Explative* you too!\n",
      "I don't know me Shining AK blood just like us?\n",
      "I'm like yeah yeah That's a vibe That's a vibe Oh that's my favorite My *Explative* Connected to a ménage I'm just tryna work your nerves I'm just tryna work that huh they just might make you dreams come to bring it to me That's not gonna work now Packed all my girls around the world just to show ya show ya show ya show ya...\n",
      "Can I have to be crooked before he died this part two Have your peoples tell promoters that I'm Kobe swish I think hoe!\n",
      "Wet a *Explative* know what you deserve is the deal?\n",
      "Are you ready are you with me?\n"
     ]
    }
   ],
   "source": [
    "import markovify\n",
    "\n",
    "with open(\"./data/lyrics_corpus.txt\") as f:\n",
    "    text = f.read()\n",
    "\n",
    "text_model = markovify.Text(text)\n",
    "\n",
    "for i in range(25):\n",
    "    print(text_model.make_sentence())"
   ]
  },
  {
   "cell_type": "code",
   "execution_count": 47,
   "id": "16a311bf-02f7-45d0-b38e-7c5bccb1699c",
   "metadata": {},
   "outputs": [
    {
     "name": "stdout",
     "output_type": "stream",
     "text": [
      "Yeah When you feel like Morpheus What what.\n"
     ]
    }
   ],
   "source": [
    "\n",
    "with open(\"./data/carti_text.txt\") as f:\n",
    "    text = f.read()\n",
    "\n",
    "text_model = markovify.Text(text)\n",
    "\n",
    "for i in range(1):\n",
    "    print(text_model.make_sentence())"
   ]
  },
  {
   "cell_type": "code",
   "execution_count": null,
   "id": "390adbe1-f28f-4377-828c-5c02466aa7d2",
   "metadata": {},
   "outputs": [],
   "source": []
  },
  {
   "cell_type": "code",
   "execution_count": null,
   "id": "849cc6ac-efb9-45f8-bb7c-722a995da651",
   "metadata": {},
   "outputs": [],
   "source": []
  }
 ],
 "metadata": {
  "kernelspec": {
   "display_name": "Python 3",
   "language": "python",
   "name": "python3"
  },
  "language_info": {
   "codemirror_mode": {
    "name": "ipython",
    "version": 3
   },
   "file_extension": ".py",
   "mimetype": "text/x-python",
   "name": "python",
   "nbconvert_exporter": "python",
   "pygments_lexer": "ipython3",
   "version": "3.8.8"
  }
 },
 "nbformat": 4,
 "nbformat_minor": 5
}
